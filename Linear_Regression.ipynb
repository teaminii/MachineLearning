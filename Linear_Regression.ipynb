{
  "nbformat": 4,
  "nbformat_minor": 0,
  "metadata": {
    "colab": {
      "name": "Linear.Regression.ipynb",
      "provenance": [],
      "collapsed_sections": [],
      "authorship_tag": "ABX9TyPZBU8lqVWxbb9Wz7Ro3/Bs",
      "include_colab_link": true
    },
    "kernelspec": {
      "name": "python3",
      "display_name": "Python 3"
    },
    "language_info": {
      "name": "python"
    },
    "accelerator": "GPU"
  },
  "cells": [
    {
      "cell_type": "markdown",
      "metadata": {
        "id": "view-in-github",
        "colab_type": "text"
      },
      "source": [
        "<a href=\"https://colab.research.google.com/github/teaminii/MachineLearning/blob/main/Linear_Regression.ipynb\" target=\"_parent\"><img src=\"https://colab.research.google.com/assets/colab-badge.svg\" alt=\"Open In Colab\"/></a>"
      ]
    },
    {
      "cell_type": "code",
      "execution_count": 6,
      "metadata": {
        "colab": {
          "base_uri": "https://localhost:8080/"
        },
        "id": "6BhTSX2OIGlU",
        "outputId": "8e8fa067-ea91-49cb-88b7-021f14a832ef"
      },
      "outputs": [
        {
          "output_type": "stream",
          "name": "stdout",
          "text": [
            "10\n",
            "10\n"
          ]
        }
      ],
      "source": [
        "##### Data Generation \n",
        "X =list(range(10))         # x = [i for i in range(10)]\n",
        "Y = [1,1,2,4,5,7,8,9,9,10]\n",
        "\n",
        "print(len(Y))\n",
        "print(len(X))"
      ]
    },
    {
      "cell_type": "code",
      "source": [
        "import matplotlib.pyplot as plt\n",
        "plt.scatter(X,Y)"
      ],
      "metadata": {
        "colab": {
          "base_uri": "https://localhost:8080/",
          "height": 283
        },
        "id": "FjnTGW5FLCzP",
        "outputId": "05d2f440-22ea-4a92-de53-fd539ec5a7c0"
      },
      "execution_count": 12,
      "outputs": [
        {
          "output_type": "execute_result",
          "data": {
            "text/plain": [
              "<matplotlib.collections.PathCollection at 0x7ff9c5dabc90>"
            ]
          },
          "metadata": {},
          "execution_count": 12
        },
        {
          "output_type": "display_data",
          "data": {
            "text/plain": [
              "<Figure size 432x288 with 1 Axes>"
            ],
            "image/png": "[encoded data removed]"
          },
          "metadata": {
            "needs_background": "light"
          }
        }
      ]
    },
    {
      "cell_type": "code",
      "source": [
        "class H():\n",
        "  def __init__(self,w):  #클래스 내부에 있는 함수 #method의 첫번째 인자는 self를 써주고 시작한다. 매서드 w로 input을 받는다. \n",
        "    self.w = w\n",
        "\n",
        "  def forward(self, x):\n",
        "    return self.w * x   #다른 메서드에서도 w를 쓰기 위해 self.w 사용 \n",
        "\n",
        "def cost(h, X, Y) :\n",
        "  error = 0\n",
        "  for i in range(len(X)):\n",
        "    error += (h.forward(X[i])-Y[i])**2\n",
        "  error = error / len(X)\n",
        "  return error\n",
        "\n",
        "h = H(4)\n",
        "print(h.w)\n",
        "print(h.forward(4))\n",
        "cost(h,X,Y)"
      ],
      "metadata": {
        "colab": {
          "base_uri": "https://localhost:8080/"
        },
        "id": "6evDN20RLG29",
        "outputId": "e5d29605-97d8-491d-940b-825ab5546adc"
      },
      "execution_count": 24,
      "outputs": [
        {
          "output_type": "stream",
          "name": "stdout",
          "text": [
            "4\n",
            "16\n"
          ]
        },
        {
          "output_type": "execute_result",
          "data": {
            "text/plain": [
              "222.2"
            ]
          },
          "metadata": {},
          "execution_count": 24
        }
      ]
    },
    {
      "cell_type": "code",
      "source": [
        "list_w = []\n",
        "list_c = []\n",
        "\n",
        "for i in range(-100, 100):\n",
        "  w = i * 0.1\n",
        "  h = H(w)\n",
        "  c = cost(h,X,Y)\n",
        "  list_w.append(w)\n",
        "  list_c.append(c)\n",
        "\n",
        "\n",
        "plt.figure(figsize=(5,5))\n",
        "plt.xlabel('w')\n",
        "plt.ylabel('cost')\n",
        "plt.scatter(list_w,list_c, s=0.1)  #list_w, list_c 의 len 값이 동일해야 error가 발생하지 않는다. "
      ],
      "metadata": {
        "colab": {
          "base_uri": "https://localhost:8080/",
          "height": 352
        },
        "id": "oqR6GgRwQzM-",
        "outputId": "0957a8f4-4717-46f0-eafb-0ac3639b7dc7"
      },
      "execution_count": 37,
      "outputs": [
        {
          "output_type": "execute_result",
          "data": {
            "text/plain": [
              "<matplotlib.collections.PathCollection at 0x7ff9c58cf8d0>"
            ]
          },
          "metadata": {},
          "execution_count": 37
        },
        {
          "output_type": "display_data",
          "data": {
            "text/plain": [
              "<Figure size 360x360 with 1 Axes>"
            ],
            "image/png": "[encoded data removed]"
          },
          "metadata": {
            "needs_background": "light"
          }
        }
      ]
    },
    {
      "cell_type": "code",
      "source": [
        "def cal_grad(w, cost): \n",
        "    h = H(w)\n",
        "    cost1 = cost(h, X, Y)\n",
        "    eps = 0.00001 \n",
        "    h = H(w+eps) \n",
        "    cost2 = cost(h, X, Y)\n",
        "    dcost = cost2 - cost1\n",
        "    dw = eps\n",
        "    grad = dcost / dw\n",
        "    return grad, (cost1+cost2)*0.5\n",
        "\n",
        "def cal_grad2(w, cost): \n",
        "    h = H(w)\n",
        "    grad = 0\n",
        "    for i in range(len(X)):\n",
        "        grad += 2*(h.forward(X[i]) - Y[i]) * X[i]\n",
        "    grad = grad / len(X)\n",
        "    c = cost(h, X, Y)\n",
        "    return grad, c\n",
        "\n",
        "\n",
        "# w = 4\n",
        "# lr = 0.01\n",
        "# print(cal_grad(4,cost))\n",
        "\n",
        "# for i in range(10):\n",
        "#   # w -= lr*cal_grad(w,cost)    #w= w + lr * (-cal_grad(w,cost))\n",
        "#   # print(w)\n",
        "\n",
        "#   grad, mean_cost = cal_grad(w,cost)\n",
        "#   w -= lr*grad\n",
        "#   print(w, mean_cost)\n",
        "\n",
        "\n",
        "\n",
        "w1 = 1.4\n",
        "w2 = 1.4\n",
        "lr = 0.01\n",
        "\n",
        "list_w1 = []\n",
        "list_w2 = []\n",
        "list_c1 = []\n",
        "list_c2 = []\n",
        "\n",
        "for i in range(100):\n",
        "  grad, mean_cost = cal_grad(w1,cost)\n",
        "  grad2, mean_cost2 = cal_grad2(w2,cost)\n",
        "\n",
        "\n",
        "  w1 -= lr*grad\n",
        "  w2 -= lr*grad2\n",
        "  list_w1.append(w1)\n",
        "  list_w2.append(w2)\n",
        "  list_c1.append(mean_cost)\n",
        "  list_c2.append(mean_cost2)\n",
        "  #print(w1, mean_cost, w2, mean_cost2)\n",
        "\n",
        "plt.scatter(list_w1,list_c1)\n",
        "plt.scatter(list_w2,list_c2)"
      ],
      "metadata": {
        "colab": {
          "base_uri": "https://localhost:8080/",
          "height": 283
        },
        "id": "VixJMXl-WXMy",
        "outputId": "9d8ec89c-31c5-4a15-864e-6c2ea70aff82"
      },
      "execution_count": 74,
      "outputs": [
        {
          "output_type": "execute_result",
          "data": {
            "text/plain": [
              "<matplotlib.collections.PathCollection at 0x7ff9c5652a90>"
            ]
          },
          "metadata": {},
          "execution_count": 74
        },
        {
          "output_type": "display_data",
          "data": {
            "text/plain": [
              "<Figure size 432x288 with 1 Axes>"
            ],
            "image/png": "[encoded data removed]"
          },
          "metadata": {
            "needs_background": "light"
          }
        }
      ]
    }
  ]
}