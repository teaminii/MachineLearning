{
  "nbformat": 4,
  "nbformat_minor": 0,
  "metadata": {
    "colab": {
      "name": "Lec18.ipynb",
      "provenance": [],
      "authorship_tag": "ABX9TyPnNXnjYV26Tj8ISQHIFEMl",
      "include_colab_link": true
    },
    "kernelspec": {
      "name": "python3",
      "display_name": "Python 3"
    },
    "language_info": {
      "name": "python"
    },
    "accelerator": "GPU",
    "gpuClass": "standard"
  },
  "cells": [
    {
      "cell_type": "markdown",
      "metadata": {
        "id": "view-in-github",
        "colab_type": "text"
      },
      "source": [
        "<a href=\"https://colab.research.google.com/github/teaminii/MachineLearning/blob/main/Lec18.ipynb\" target=\"_parent\"><img src=\"https://colab.research.google.com/assets/colab-badge.svg\" alt=\"Open In Colab\"/></a>"
      ]
    },
    {
      "cell_type": "code",
      "execution_count": 51,
      "metadata": {
        "colab": {
          "base_uri": "https://localhost:8080/"
        },
        "id": "X6CyC2ZbZ0jo",
        "outputId": "c9451b85-0ad1-449b-ed36-00e04ec5113c"
      },
      "outputs": [
        {
          "output_type": "stream",
          "name": "stdout",
          "text": [
            "{'visual': 5, 'value2': 10, 'seq': [1, 2, 3, 4, 5]}\n"
          ]
        }
      ],
      "source": [
        "import json\n",
        "a = {'visual' : 5 , 'value2':10, 'seq':[1,2,3,4,5]}\n",
        "\n",
        "filename = 'test.jason'\n",
        "with open(filename, 'w') as f:\n",
        "  json.dump(a, f)\n",
        "\n",
        "with open(filename, 'r') as f:\n",
        "  result = json.load(f)\n",
        "  print(result)"
      ]
    },
    {
      "cell_type": "code",
      "source": [
        "## file name 만들기 \n",
        "import hashlib\n",
        "setting = {'visual':6 , 'value2':10, 'seq':[1,2,3,4,5], 'exp_name':'exp1'}\n",
        "exp_name = setting['exp_name']\n",
        "hash_key = hashlib.sha1(str(setting).encode()).hexdigest()[:6]\n",
        "filename = '{}-{}.json'.format(exp_name,hash_key)\n",
        "print(filename)"
      ],
      "metadata": {
        "colab": {
          "base_uri": "https://localhost:8080/"
        },
        "id": "psKvCj6gjARp",
        "outputId": "6c97d59d-f002-43fb-87ff-39da8fe49120"
      },
      "execution_count": 52,
      "outputs": [
        {
          "output_type": "stream",
          "name": "stdout",
          "text": [
            "exp1-84c0e5.json\n"
          ]
        }
      ]
    },
    {
      "cell_type": "code",
      "source": [
        "!ls"
      ],
      "metadata": {
        "colab": {
          "base_uri": "https://localhost:8080/"
        },
        "id": "rnqPpwMGaO2f",
        "outputId": "dfaa6472-a488-4056-b0a5-47365f714a9e"
      },
      "execution_count": 53,
      "outputs": [
        {
          "output_type": "stream",
          "name": "stdout",
          "text": [
            "data  results  sample_data  test.jason\n"
          ]
        }
      ]
    },
    {
      "cell_type": "code",
      "source": [
        "!mkdir results\n",
        "!ls\n",
        "!ls results"
      ],
      "metadata": {
        "colab": {
          "base_uri": "https://localhost:8080/"
        },
        "id": "PkogVC2gjyAr",
        "outputId": "f07e831b-29ec-4624-f619-26bef6f0fc31"
      },
      "execution_count": 54,
      "outputs": [
        {
          "output_type": "stream",
          "name": "stdout",
          "text": [
            "mkdir: cannot create directory ‘results’: File exists\n",
            "data  results  sample_data  test.jason\n",
            "exp1_n_layer_hid_dim-41b634.json  exp1_n_layer_hid_dim-cab8c1.json\n",
            "exp1_n_layer_hid_dim-61a2d0.json  exp1_n_layer_hid_dim-dece45.json\n",
            "exp1_n_layer_hid_dim-7b70fe.json  exp2_lr_dropout-404d92.json\n",
            "exp1_n_layer_hid_dim-bfc899.json\n"
          ]
        }
      ]
    },
    {
      "cell_type": "code",
      "source": [
        "import torch\n",
        "import torchvision\n",
        "import torchvision.transforms as transforms\n",
        "import torch.nn as nn\n",
        "import torch.nn.functional as F\n",
        "import torch.optim as optim\n",
        "import argparse\n",
        "import numpy as np\n",
        "import time\n",
        "from copy import deepcopy "
      ],
      "metadata": {
        "id": "1aFkTZI1j2Cu"
      },
      "execution_count": 55,
      "outputs": []
    },
    {
      "cell_type": "code",
      "source": [
        "#================ Data 다운받기 \n",
        "transform = transforms.Compose(\n",
        "    [transforms.ToTensor(),\n",
        "     transforms.Normalize((0.5, 0.5, 0.5), (0.5, 0.5, 0.5))])\n",
        "\n",
        "trainset = torchvision.datasets.CIFAR10(root='./data', train=True,\n",
        "                                        download=True, transform=transform)\n",
        "trainset, valset = torch.utils.data.random_split(trainset, [40000, 10000])\n",
        "testset = torchvision.datasets.CIFAR10(root='./data', train=False,\n",
        "                                       download=True, transform=transform)\n",
        "partition = {'train': trainset, 'val':valset, 'test':testset}"
      ],
      "metadata": {
        "colab": {
          "base_uri": "https://localhost:8080/"
        },
        "id": "MHrajDOFj3yV",
        "outputId": "b88d29c0-6dbf-4638-f38c-2cebd4330c98"
      },
      "execution_count": 56,
      "outputs": [
        {
          "output_type": "stream",
          "name": "stdout",
          "text": [
            "Files already downloaded and verified\n",
            "Files already downloaded and verified\n"
          ]
        }
      ]
    },
    {
      "cell_type": "code",
      "source": [
        "class MLP(nn.Module):\n",
        "    def __init__(self, in_dim, out_dim, hid_dim, n_layer, act, dropout, use_bn, use_xavier):\n",
        "        super(MLP, self).__init__()\n",
        "        self.in_dim = in_dim\n",
        "        self.out_dim = out_dim\n",
        "        self.hid_dim = hid_dim\n",
        "        self.n_layer = n_layer\n",
        "        self.act = act\n",
        "        self.dropout = dropout\n",
        "        self.use_bn = use_bn\n",
        "        self.use_xavier = use_xavier\n",
        "        \n",
        "        # Linear Layer 생성\n",
        "        self.fc1 = nn.Linear(self.in_dim, self.hid_dim)\n",
        "        \n",
        "        self.linears = nn.ModuleList()\n",
        "        self.bns = nn.ModuleList()\n",
        "        for i in range(self.n_layer-1):\n",
        "            self.linears.append(nn.Linear(self.hid_dim, self.hid_dim))\n",
        "            if self.use_bn:\n",
        "                self.bns.append(nn.BatchNorm1d(self.hid_dim))\n",
        "                \n",
        "        self.fc2 = nn.Linear(self.hid_dim, self.out_dim)\n",
        "        \n",
        "        # Activation Function 생성\n",
        "        if self.act == 'relu':\n",
        "            self.act = nn.ReLU()\n",
        "        elif self.act == 'tanh':\n",
        "            self.act == nn.Tanh()\n",
        "        elif self.act == 'sigmoid':\n",
        "            self.act = nn.Sigmoid()\n",
        "        else:\n",
        "            raise ValueError('no valid activation function selected!')\n",
        "        \n",
        "        # Regularization Layer 생성\n",
        "        self.dropout = nn.Dropout(self.dropout)\n",
        "        if self.use_xavier:\n",
        "            self.xavier_init()\n",
        "          \n",
        "    def forward(self, x):\n",
        "        x = self.act(self.fc1(x))\n",
        "        for i in range(len(self.linears)):\n",
        "            x = self.act(self.linears[i](x))\n",
        "            x = self.bns[i](x)\n",
        "            x = self.dropout(x)\n",
        "        x = self.fc2(x)\n",
        "        return x\n",
        "    \n",
        "    def xavier_init(self):\n",
        "        for linear in self.linears:\n",
        "            nn.init.xavier_normal_(linear.weight)\n",
        "            linear.bias.data.fill_(0.01)\n",
        "            \n",
        "net = MLP(3072, 10, 100, 4, 'relu', 0.1, True, True) # Te"
      ],
      "metadata": {
        "id": "rzlDFTtYj8D9"
      },
      "execution_count": 57,
      "outputs": []
    },
    {
      "cell_type": "code",
      "source": [
        "def train(net, partition, optimizer, criterion, args):\n",
        "    trainloader = torch.utils.data.DataLoader(partition['train'], \n",
        "                                              batch_size=args.train_batch_size, \n",
        "                                              shuffle=True, num_workers=2)\n",
        "    net.train()\n",
        "\n",
        "    correct = 0\n",
        "    total = 0\n",
        "    train_loss = 0.0\n",
        "    for i, data in enumerate(trainloader, 0):\n",
        "        optimizer.zero_grad()\n",
        "\n",
        "        inputs, labels = data\n",
        "        inputs = inputs.view(-1, 3072)\n",
        "        inputs = inputs.cuda()\n",
        "        labels = labels.cuda()\n",
        "        outputs = net(inputs)\n",
        "\n",
        "        loss = criterion(outputs, labels)\n",
        "        loss.backward()\n",
        "        optimizer.step()\n",
        "\n",
        "        train_loss += loss.item()\n",
        "        _, predicted = torch.max(outputs.data, 1)\n",
        "        total += labels.size(0)\n",
        "        correct += (predicted == labels).sum().item()\n",
        "\n",
        "    train_loss = train_loss / len(trainloader)\n",
        "    train_acc = 100 * correct / total\n",
        "    return net, train_loss, train_acc"
      ],
      "metadata": {
        "id": "RgFrhXvKkACv"
      },
      "execution_count": 58,
      "outputs": []
    },
    {
      "cell_type": "code",
      "source": [
        "def validate(net, partition, criterion, args):\n",
        "    valloader = torch.utils.data.DataLoader(partition['val'], batch_size=args.test_batch_size, shuffle=False, num_workers=2)\n",
        "    net.eval()\n",
        "\n",
        "    correct = 0\n",
        "    total = 0\n",
        "    val_loss = 0 \n",
        "    with torch.no_grad():\n",
        "        for data in valloader:\n",
        "            images, labels = data\n",
        "            images = images.view(-1, 3072)\n",
        "            images = images.cuda()\n",
        "            labels = labels.cuda()\n",
        "            outputs = net(images)\n",
        "\n",
        "            loss = criterion(outputs, labels)\n",
        "            \n",
        "            val_loss += loss.item()\n",
        "            _, predicted = torch.max(outputs.data, 1)\n",
        "            total += labels.size(0)\n",
        "            correct += (predicted == labels).sum().item()\n",
        "\n",
        "        val_loss = val_loss / len(valloader)\n",
        "        val_acc = 100 * correct / total\n",
        "    return val_loss, val_acc"
      ],
      "metadata": {
        "id": "SDEzJgDxkBsq"
      },
      "execution_count": 59,
      "outputs": []
    },
    {
      "cell_type": "code",
      "source": [
        "def test(net, partition, args):\n",
        "    testloader = torch.utils.data.DataLoader(partition['test'], batch_size=args.test_batch_size, shuffle=False, num_workers=2)\n",
        "    net.eval()\n",
        "    \n",
        "    correct = 0\n",
        "    total = 0\n",
        "    with torch.no_grad():\n",
        "        for data in testloader:\n",
        "            images, labels = data\n",
        "            images = images.view(-1, 3072)\n",
        "            images = images.cuda()\n",
        "            labels = labels.cuda()\n",
        "\n",
        "            outputs = net(images)\n",
        "            _, predicted = torch.max(outputs.data, 1)\n",
        "            total += labels.size(0)\n",
        "            correct += (predicted == labels).sum().item()\n",
        "\n",
        "        test_acc = 100 * correct / total\n",
        "    return test_acc"
      ],
      "metadata": {
        "id": "2qBVbH7bkDM5"
      },
      "execution_count": 60,
      "outputs": []
    },
    {
      "cell_type": "code",
      "source": [
        "def experiment(partition, args):\n",
        "  \n",
        "    net = MLP(args.in_dim, args.out_dim, args.hid_dim, args.n_layer, args.act, args.dropout, args.use_bn, args.use_xavier)\n",
        "    net.cuda()\n",
        "\n",
        "    criterion = nn.CrossEntropyLoss()\n",
        "    if args.optim == 'SGD':\n",
        "        optimizer = optim.RMSprop(net.parameters(), lr=args.lr, weight_decay=args.l2)\n",
        "    elif args.optim == 'RMSprop':\n",
        "        optimizer = optim.RMSprop(net.parameters(), lr=args.lr, weight_decay=args.l2)\n",
        "    elif args.optim == 'Adam':\n",
        "        optimizer = optim.Adam(net.parameters(), lr=args.lr, weight_decay=args.l2)\n",
        "    else:\n",
        "        raise ValueError('In-valid optimizer choice')\n",
        "    \n",
        "    # 초기화 \n",
        "    train_losses = []\n",
        "    val_losses = []\n",
        "    train_accs = []\n",
        "    val_accs = []\n",
        "\n",
        "    for epoch in range(args.epoch): \n",
        "        ts = time.time()\n",
        "        net, train_loss, train_acc = train(net, partition, optimizer, criterion, args)\n",
        "        val_loss, val_acc = validate(net, partition, criterion, args)\n",
        "        te = time.time()\n",
        "        \n",
        "        ##Epoch Data 추가하기\n",
        "        train_losses.append(train_loss)\n",
        "        val_losses.append(val_loss)\n",
        "        train_accs.append(train_acc)\n",
        "        val_accs.append(val_acc)\n",
        "        ##\n",
        "        \n",
        "        print('Epoch {}, Acc(train/val): {:2.2f}/{:2.2f}, Loss(train/val) {:2.2f}/{:2.2f}. Took {:2.2f} sec'.format(epoch, train_acc, val_acc, train_loss, val_loss, te-ts))\n",
        "        \n",
        "    test_acc = test(net, partition, args)    \n",
        "    \n",
        "    # Result to Dictionary 추가하기\n",
        "    result = {}\n",
        "    result['train_losses'] = train_losses\n",
        "    result['val_losses'] = val_losses\n",
        "    result['train_accs'] = train_accs\n",
        "    result['val_accs'] = val_accs\n",
        "    result['train_acc'] = train_acc\n",
        "    result['val_acc'] = val_acc\n",
        "    result['test_acc'] = test_acc\n",
        "    return vars(args), result"
      ],
      "metadata": {
        "id": "IAzXEvYbkEd1"
      },
      "execution_count": 61,
      "outputs": []
    },
    {
      "cell_type": "code",
      "source": [
        "import hashlib\n",
        "import json\n",
        "from os import listdir\n",
        "from os.path import isfile, join\n",
        "import pandas as pd\n",
        "\n",
        "def save_exp_result(setting, result):\n",
        "    exp_name = setting['exp_name']\n",
        "    del setting['epoch']\n",
        "    del setting['test_batch_size']\n",
        "\n",
        "    hash_key = hashlib.sha1(str(setting).encode()).hexdigest()[:6]\n",
        "    filename = './results/{}-{}.json'.format(exp_name, hash_key)\n",
        "    result.update(setting)\n",
        "    with open(filename, 'w') as f:\n",
        "        json.dump(result, f)\n",
        "\n",
        "    \n",
        "def load_exp_result(exp_name):\n",
        "    dir_path = './results'\n",
        "    filenames = [f for f in listdir(dir_path) if isfile(join(dir_path, f)) if '.json' in f]\n",
        "    list_result = []\n",
        "    for filename in filenames:\n",
        "        if exp_name in filename:\n",
        "            with open(join(dir_path, filename), 'r') as infile:\n",
        "                results = json.load(infile)\n",
        "                list_result.append(results)\n",
        "    df = pd.DataFrame(list_result)\n",
        "    return df\n",
        "    "
      ],
      "metadata": {
        "id": "HQy7o9tLkGLP"
      },
      "execution_count": 62,
      "outputs": []
    },
    {
      "cell_type": "code",
      "source": [
        "seed = 123\n",
        "np.random.seed(seed)\n",
        "torch.manual_seed(seed)\n",
        "\n",
        "parser = argparse.ArgumentParser()\n",
        "args = parser.parse_args(\"\")\n",
        "args.exp_name = \"exp1_n_layer_hid_dim\"\n",
        "\n",
        "args.in_dim = 3072\n",
        "args.out_dim = 10\n",
        "args.hid_dim = 100\n",
        "args.act = 'relu'\n",
        "\n",
        "args.dropout = 0.2\n",
        "args.use_bn = True\n",
        "args.l2 = 0.00001\n",
        "args.use_xavier = True\n",
        "\n",
        "args.optim = 'RMSprop'\n",
        "args.lr = 0.0015\n",
        "args.epoch = 10\n",
        "\n",
        "args.train_batch_size = 256\n",
        "args.test_batch_size = 1024\n",
        "\n",
        "\n",
        "name_var1 = 'n_layer'\n",
        "name_var2 = 'hid_dim'\n",
        "list_var1 = [1, 2, 3]\n",
        "list_var2 = [500, 300]\n",
        "\n",
        "\n",
        "for var1 in list_var1:\n",
        "    for var2 in list_var2:\n",
        "        setattr(args, name_var1, var1)\n",
        "        setattr(args, name_var2, var2)\n",
        "        print(args)\n",
        "                \n",
        "        setting, result = experiment(partition, deepcopy(args))\n",
        "        save_exp_result(setting, result)"
      ],
      "metadata": {
        "colab": {
          "base_uri": "https://localhost:8080/"
        },
        "id": "Cgdv8IzakHkg",
        "outputId": "fb6d30de-94a8-452c-e89a-9e1022263cb5"
      },
      "execution_count": 63,
      "outputs": [
        {
          "output_type": "stream",
          "name": "stdout",
          "text": [
            "Namespace(act='relu', dropout=0.2, epoch=10, exp_name='exp1_n_layer_hid_dim', hid_dim=500, in_dim=3072, l2=1e-05, lr=0.0015, n_layer=1, optim='RMSprop', out_dim=10, test_batch_size=1024, train_batch_size=256, use_bn=True, use_xavier=True)\n",
            "Epoch 0, Acc(train/val): 37.70/36.71, Loss(train/val) 2.55/1.98. Took 9.20 sec\n",
            "Epoch 1, Acc(train/val): 45.56/42.76, Loss(train/val) 1.58/1.75. Took 9.57 sec\n",
            "Epoch 2, Acc(train/val): 48.69/44.60, Loss(train/val) 1.49/1.65. Took 10.42 sec\n",
            "Epoch 3, Acc(train/val): 50.63/43.54, Loss(train/val) 1.44/1.74. Took 9.42 sec\n",
            "Epoch 4, Acc(train/val): 52.70/40.85, Loss(train/val) 1.38/1.92. Took 9.71 sec\n",
            "Epoch 5, Acc(train/val): 55.09/44.63, Loss(train/val) 1.32/1.81. Took 9.59 sec\n",
            "Epoch 6, Acc(train/val): 56.33/43.62, Loss(train/val) 1.29/1.88. Took 9.61 sec\n",
            "Epoch 7, Acc(train/val): 58.36/46.58, Loss(train/val) 1.23/1.74. Took 9.43 sec\n",
            "Epoch 8, Acc(train/val): 59.67/41.35, Loss(train/val) 1.19/2.11. Took 9.49 sec\n",
            "Epoch 9, Acc(train/val): 61.47/43.01, Loss(train/val) 1.17/2.08. Took 9.53 sec\n",
            "Namespace(act='relu', dropout=0.2, epoch=10, exp_name='exp1_n_layer_hid_dim', hid_dim=300, in_dim=3072, l2=1e-05, lr=0.0015, n_layer=1, optim='RMSprop', out_dim=10, test_batch_size=1024, train_batch_size=256, use_bn=True, use_xavier=True)\n",
            "Epoch 0, Acc(train/val): 38.30/39.58, Loss(train/val) 2.22/1.71. Took 9.69 sec\n",
            "Epoch 1, Acc(train/val): 46.75/43.97, Loss(train/val) 1.53/1.65. Took 9.49 sec\n",
            "Epoch 2, Acc(train/val): 49.44/41.75, Loss(train/val) 1.45/1.86. Took 9.43 sec\n",
            "Epoch 3, Acc(train/val): 51.33/44.06, Loss(train/val) 1.40/1.73. Took 9.39 sec\n",
            "Epoch 4, Acc(train/val): 53.56/42.31, Loss(train/val) 1.34/1.96. Took 9.42 sec\n",
            "Epoch 5, Acc(train/val): 55.50/44.52, Loss(train/val) 1.29/1.84. Took 9.32 sec\n",
            "Epoch 6, Acc(train/val): 57.34/43.89, Loss(train/val) 1.24/1.83. Took 9.37 sec\n",
            "Epoch 7, Acc(train/val): 59.40/49.62, Loss(train/val) 1.19/1.53. Took 9.50 sec\n",
            "Epoch 8, Acc(train/val): 60.64/45.79, Loss(train/val) 1.16/2.01. Took 10.15 sec\n",
            "Epoch 9, Acc(train/val): 61.92/39.12, Loss(train/val) 1.13/2.48. Took 9.48 sec\n",
            "Namespace(act='relu', dropout=0.2, epoch=10, exp_name='exp1_n_layer_hid_dim', hid_dim=500, in_dim=3072, l2=1e-05, lr=0.0015, n_layer=2, optim='RMSprop', out_dim=10, test_batch_size=1024, train_batch_size=256, use_bn=True, use_xavier=True)\n",
            "Epoch 0, Acc(train/val): 37.29/38.79, Loss(train/val) 1.80/1.81. Took 9.49 sec\n",
            "Epoch 1, Acc(train/val): 45.78/41.98, Loss(train/val) 1.53/1.60. Took 9.46 sec\n",
            "Epoch 2, Acc(train/val): 49.69/45.39, Loss(train/val) 1.42/1.54. Took 9.54 sec\n",
            "Epoch 3, Acc(train/val): 52.89/43.28, Loss(train/val) 1.33/1.64. Took 9.76 sec\n",
            "Epoch 4, Acc(train/val): 54.78/48.70, Loss(train/val) 1.28/1.47. Took 9.50 sec\n",
            "Epoch 5, Acc(train/val): 56.83/47.28, Loss(train/val) 1.21/1.57. Took 9.51 sec\n",
            "Epoch 6, Acc(train/val): 59.47/46.84, Loss(train/val) 1.14/1.63. Took 9.54 sec\n",
            "Epoch 7, Acc(train/val): 61.09/50.30, Loss(train/val) 1.10/1.48. Took 9.30 sec\n",
            "Epoch 8, Acc(train/val): 63.49/49.20, Loss(train/val) 1.03/1.62. Took 9.38 sec\n",
            "Epoch 9, Acc(train/val): 65.66/51.69, Loss(train/val) 0.98/1.50. Took 9.54 sec\n",
            "Namespace(act='relu', dropout=0.2, epoch=10, exp_name='exp1_n_layer_hid_dim', hid_dim=300, in_dim=3072, l2=1e-05, lr=0.0015, n_layer=2, optim='RMSprop', out_dim=10, test_batch_size=1024, train_batch_size=256, use_bn=True, use_xavier=True)\n",
            "Epoch 0, Acc(train/val): 37.76/38.80, Loss(train/val) 1.76/1.78. Took 9.39 sec\n",
            "Epoch 1, Acc(train/val): 46.37/43.08, Loss(train/val) 1.52/1.61. Took 9.31 sec\n",
            "Epoch 2, Acc(train/val): 49.89/43.26, Loss(train/val) 1.42/1.68. Took 9.31 sec\n",
            "Epoch 3, Acc(train/val): 52.66/48.76, Loss(train/val) 1.34/1.46. Took 9.40 sec\n",
            "Epoch 4, Acc(train/val): 54.81/48.94, Loss(train/val) 1.27/1.50. Took 9.34 sec\n",
            "Epoch 5, Acc(train/val): 56.69/49.08, Loss(train/val) 1.23/1.46. Took 10.28 sec\n",
            "Epoch 6, Acc(train/val): 58.73/49.06, Loss(train/val) 1.17/1.49. Took 9.47 sec\n",
            "Epoch 7, Acc(train/val): 60.70/46.75, Loss(train/val) 1.11/1.63. Took 9.59 sec\n",
            "Epoch 8, Acc(train/val): 62.64/48.65, Loss(train/val) 1.06/1.59. Took 9.47 sec\n",
            "Epoch 9, Acc(train/val): 63.93/49.91, Loss(train/val) 1.02/1.52. Took 9.54 sec\n",
            "Namespace(act='relu', dropout=0.2, epoch=10, exp_name='exp1_n_layer_hid_dim', hid_dim=500, in_dim=3072, l2=1e-05, lr=0.0015, n_layer=3, optim='RMSprop', out_dim=10, test_batch_size=1024, train_batch_size=256, use_bn=True, use_xavier=True)\n",
            "Epoch 0, Acc(train/val): 34.74/38.95, Loss(train/val) 1.85/1.68. Took 9.49 sec\n",
            "Epoch 1, Acc(train/val): 45.04/42.59, Loss(train/val) 1.54/1.67. Took 9.68 sec\n",
            "Epoch 2, Acc(train/val): 49.17/44.75, Loss(train/val) 1.41/1.55. Took 9.77 sec\n",
            "Epoch 3, Acc(train/val): 52.40/44.76, Loss(train/val) 1.33/1.59. Took 9.45 sec\n",
            "Epoch 4, Acc(train/val): 54.55/46.45, Loss(train/val) 1.26/1.50. Took 9.59 sec\n",
            "Epoch 5, Acc(train/val): 57.03/47.44, Loss(train/val) 1.20/1.56. Took 9.41 sec\n",
            "Epoch 6, Acc(train/val): 59.28/49.81, Loss(train/val) 1.13/1.47. Took 9.53 sec\n",
            "Epoch 7, Acc(train/val): 61.53/45.35, Loss(train/val) 1.07/1.85. Took 9.50 sec\n",
            "Epoch 8, Acc(train/val): 63.27/49.38, Loss(train/val) 1.02/1.52. Took 9.54 sec\n",
            "Epoch 9, Acc(train/val): 65.66/48.46, Loss(train/val) 0.96/1.62. Took 9.54 sec\n",
            "Namespace(act='relu', dropout=0.2, epoch=10, exp_name='exp1_n_layer_hid_dim', hid_dim=300, in_dim=3072, l2=1e-05, lr=0.0015, n_layer=3, optim='RMSprop', out_dim=10, test_batch_size=1024, train_batch_size=256, use_bn=True, use_xavier=True)\n",
            "Epoch 0, Acc(train/val): 36.52/34.07, Loss(train/val) 1.78/1.86. Took 9.73 sec\n",
            "Epoch 1, Acc(train/val): 45.22/43.87, Loss(train/val) 1.52/1.57. Took 10.20 sec\n",
            "Epoch 2, Acc(train/val): 48.86/42.66, Loss(train/val) 1.42/1.65. Took 9.50 sec\n",
            "Epoch 3, Acc(train/val): 51.97/43.36, Loss(train/val) 1.34/1.59. Took 9.52 sec\n",
            "Epoch 4, Acc(train/val): 54.55/48.43, Loss(train/val) 1.27/1.46. Took 9.52 sec\n",
            "Epoch 5, Acc(train/val): 56.67/50.04, Loss(train/val) 1.21/1.45. Took 9.46 sec\n",
            "Epoch 6, Acc(train/val): 58.54/48.83, Loss(train/val) 1.16/1.48. Took 9.45 sec\n",
            "Epoch 7, Acc(train/val): 60.52/53.11, Loss(train/val) 1.10/1.36. Took 9.38 sec\n",
            "Epoch 8, Acc(train/val): 62.27/51.19, Loss(train/val) 1.05/1.46. Took 9.50 sec\n",
            "Epoch 9, Acc(train/val): 63.95/51.79, Loss(train/val) 1.01/1.42. Took 9.42 sec\n"
          ]
        }
      ]
    },
    {
      "cell_type": "code",
      "source": [
        "!ls results"
      ],
      "metadata": {
        "colab": {
          "base_uri": "https://localhost:8080/"
        },
        "id": "1XkyBWsYkJwD",
        "outputId": "e3975eca-4873-4112-c7c1-fa721071ddc4"
      },
      "execution_count": 66,
      "outputs": [
        {
          "output_type": "stream",
          "name": "stdout",
          "text": [
            "exp1_n_layer_hid_dim-41b634.json  exp1_n_layer_hid_dim-cab8c1.json\n",
            "exp1_n_layer_hid_dim-61a2d0.json  exp1_n_layer_hid_dim-dece45.json\n",
            "exp1_n_layer_hid_dim-7b70fe.json  exp2_lr_dropout-404d92.json\n",
            "exp1_n_layer_hid_dim-bfc899.json\n"
          ]
        }
      ]
    },
    {
      "cell_type": "code",
      "source": [
        "import seaborn as sns\n",
        "import matplotlib.pyplot as plt\n",
        "\n",
        "#load_exp_result('exp1')\n",
        "#print(type(load_exp_result('exp1')))\n",
        "\n",
        "df = load_exp_result('exp1')\n",
        "\n",
        "fig, ax = plt.subplots(1,3)\n",
        "fig.set_size_inches(12,4)\n",
        "\n",
        "# a = [{'age':5, 'gender':'f', 'score':10, 't':1},{'age':6, 'gender':'m', 'score':9,'t':1},\n",
        "#      {'age':10, 'gender':'f', 'score':15, 't':1},{'age':7, 'gender':'m', 'score':2, 't':2},\n",
        "#      {'age':3, 'gender':'f', 'score':33, 't':2}]\n",
        "\n",
        "# df = pd.DataFrame(a)\n",
        "# df\n",
        "\n",
        "# sns.relplot(x='age', y='gender', data=df)\n",
        "# sns.barplot(x='age', y='score', hue='gender', data =df)\n",
        "\n",
        "sns.barplot(x='n_layer', y='train_acc', hue = 'hid_dim', data=df, ax=ax[0])\n",
        "sns.barplot(x='n_layer', y='val_acc', hue = 'hid_dim', data=df, ax=ax[1])\n",
        "sns.barplot(x='n_layer', y='test_acc', hue = 'hid_dim', data=df, ax=ax[2])"
      ],
      "metadata": {
        "colab": {
          "base_uri": "https://localhost:8080/",
          "height": 298
        },
        "id": "_3z5xRDQnFE9",
        "outputId": "72da9eaf-185c-4951-9bee-0cc2400ee67c"
      },
      "execution_count": 67,
      "outputs": [
        {
          "output_type": "execute_result",
          "data": {
            "text/plain": [
              "<matplotlib.axes._subplots.AxesSubplot at 0x7f621f274410>"
            ]
          },
          "metadata": {},
          "execution_count": 67
        },
        {
          "output_type": "display_data",
          "data": {
            "text/plain": [
              "<Figure size 864x288 with 3 Axes>"
            ],
            "image/png": "[encoded data removed]"
          },
          "metadata": {
            "needs_background": "light"
          }
        }
      ]
    },
    {
      "cell_type": "code",
      "source": [
        "#================= Loss 변화\n",
        "\n",
        "var1 = 'n_layer'\n",
        "var2 = 'hid_dim'\n",
        "\n",
        "df = load_exp_result('exp1')\n",
        "list_v1 = df[var1].unique()\n",
        "list_v2 = df[var2].unique()\n",
        "print(list_v1, list_v2)\n",
        "list_data = []\n",
        "\n",
        "for value1 in list_v1:\n",
        "    for value2 in list_v2:\n",
        "        row = df.loc[df[var1]==value1]\n",
        "        row = row.loc[df[var2]==value2]\n",
        "        \n",
        "        train_losses = list(row.train_losses)[0]\n",
        "        val_losses = list(row.val_losses)[0]\n",
        "        \n",
        "        for epoch, train_loss in enumerate(train_losses):\n",
        "            list_data.append({'type':'train', 'loss':train_loss, 'epoch':epoch, var1:value1, var2:value2})\n",
        "        for epoch, val_loss in enumerate(val_losses):\n",
        "            list_data.append({'type':'val', 'loss':val_loss, 'epoch':epoch, var1:value1, var2:value2})\n",
        "        \n",
        "df = pd.DataFrame(list_data)\n",
        "g = sns.FacetGrid(df, row=var2, col=var1, hue='type', margin_titles=True, sharey=False)\n",
        "g = g.map(plt.plot, 'epoch', 'loss', marker='.')\n",
        "g.add_legend()\n",
        "g.fig.suptitle('Train loss vs Val  loss')\n",
        "plt.subplots_adjust(top=0.89)"
      ],
      "metadata": {
        "colab": {
          "base_uri": "https://localhost:8080/",
          "height": 461
        },
        "id": "rPDxX3sOscsK",
        "outputId": "8ab1c722-cad4-4123-dc15-0bdd2deadb44"
      },
      "execution_count": 68,
      "outputs": [
        {
          "output_type": "stream",
          "name": "stdout",
          "text": [
            "[2 3 1] [500 300]\n"
          ]
        },
        {
          "output_type": "display_data",
          "data": {
            "text/plain": [
              "<Figure size 707.375x432 with 6 Axes>"
            ],
            "image/png": "[encoded data removed]"
          },
          "metadata": {
            "needs_background": "light"
          }
        }
      ]
    },
    {
      "cell_type": "code",
      "source": [
        "var1 = 'n_layer'\n",
        "var2 = 'hid_dim'\n",
        "\n",
        "df = load_exp_result('exp1')\n",
        "list_v1 = df[var1].unique()\n",
        "list_v2 = df[var2].unique()\n",
        "list_data = []\n",
        "\n",
        "for value1 in list_v1:\n",
        "    for value2 in list_v2:\n",
        "        row = df.loc[df[var1]==value1]\n",
        "        row = row.loc[df[var2]==value2]\n",
        "        \n",
        "        train_accs = list(row.train_accs)[0]\n",
        "        val_accs = list(row.val_accs)[0]\n",
        "        test_acc = list(row.test_acc)[0]\n",
        "        \n",
        "        for epoch, train_acc in enumerate(train_accs):\n",
        "            list_data.append({'type':'train', 'Acc':train_acc, 'test_acc':test_acc, 'epoch':epoch, var1:value1, var2:value2})\n",
        "        for epoch, val_acc in enumerate(val_accs):\n",
        "            list_data.append({'type':'val', 'Acc':val_acc, 'test_acc':test_acc, 'epoch':epoch, var1:value1, var2:value2})\n",
        "        \n",
        "df = pd.DataFrame(list_data)\n",
        "g = sns.FacetGrid(df, row=var2, col=var1, hue='type', margin_titles=True, sharey=False)\n",
        "g = g.map(plt.plot, 'epoch', 'Acc', marker='.')\n",
        "\n",
        "def show_acc(x, y, metric, **kwargs):\n",
        "    plt.scatter(x, y, alpha=0.3, s=1)\n",
        "    metric = \"Test Acc: {:1.3f}\".format(list(metric.values)[0])\n",
        "    plt.text(0.05, 0.95, metric,  horizontalalignment='left', verticalalignment='center', transform=plt.gca().transAxes, bbox=dict(facecolor='yellow', alpha=0.5, boxstyle=\"round,pad=0.1\"))\n",
        "g = g.map(show_acc, 'epoch', 'Acc', 'test_acc')\n",
        "\n",
        "g.add_legend()\n",
        "g.fig.suptitle('Train Accuracy vs Val Accuracy')\n",
        "\n",
        "\n",
        "\n",
        "plt.subplots_adjust(top=0.89)"
      ],
      "metadata": {
        "colab": {
          "base_uri": "https://localhost:8080/",
          "height": 443
        },
        "id": "aF-SB7tDwGye",
        "outputId": "4b89b20a-55f0-4484-a724-234d6c8b9414"
      },
      "execution_count": 69,
      "outputs": [
        {
          "output_type": "display_data",
          "data": {
            "text/plain": [
              "<Figure size 707.375x432 with 6 Axes>"
            ],
            "image/png": "[encoded data removed]"
          },
          "metadata": {
            "needs_background": "light"
          }
        }
      ]
    },
    {
      "cell_type": "code",
      "source": [
        "!pip install seaborn==0.9.0"
      ],
      "metadata": {
        "colab": {
          "base_uri": "https://localhost:8080/",
          "height": 487
        },
        "id": "iDcluVmCpPTw",
        "outputId": "d4d9ac54-b945-4b91-bd42-fa9e8628169b"
      },
      "execution_count": 18,
      "outputs": [
        {
          "output_type": "stream",
          "name": "stdout",
          "text": [
            "Looking in indexes: https://pypi.org/simple, https://us-python.pkg.dev/colab-wheels/public/simple/\n",
            "Collecting seaborn==0.9.0\n",
            "  Downloading seaborn-0.9.0-py3-none-any.whl (208 kB)\n",
            "\u001b[K     |████████████████████████████████| 208 kB 15.2 MB/s \n",
            "\u001b[?25hRequirement already satisfied: numpy>=1.9.3 in /usr/local/lib/python3.7/dist-packages (from seaborn==0.9.0) (1.21.6)\n",
            "Requirement already satisfied: matplotlib>=1.4.3 in /usr/local/lib/python3.7/dist-packages (from seaborn==0.9.0) (3.2.2)\n",
            "Requirement already satisfied: scipy>=0.14.0 in /usr/local/lib/python3.7/dist-packages (from seaborn==0.9.0) (1.4.1)\n",
            "Requirement already satisfied: pandas>=0.15.2 in /usr/local/lib/python3.7/dist-packages (from seaborn==0.9.0) (1.3.5)\n",
            "Requirement already satisfied: python-dateutil>=2.1 in /usr/local/lib/python3.7/dist-packages (from matplotlib>=1.4.3->seaborn==0.9.0) (2.8.2)\n",
            "Requirement already satisfied: pyparsing!=2.0.4,!=2.1.2,!=2.1.6,>=2.0.1 in /usr/local/lib/python3.7/dist-packages (from matplotlib>=1.4.3->seaborn==0.9.0) (3.0.9)\n",
            "Requirement already satisfied: cycler>=0.10 in /usr/local/lib/python3.7/dist-packages (from matplotlib>=1.4.3->seaborn==0.9.0) (0.11.0)\n",
            "Requirement already satisfied: kiwisolver>=1.0.1 in /usr/local/lib/python3.7/dist-packages (from matplotlib>=1.4.3->seaborn==0.9.0) (1.4.3)\n",
            "Requirement already satisfied: typing-extensions in /usr/local/lib/python3.7/dist-packages (from kiwisolver>=1.0.1->matplotlib>=1.4.3->seaborn==0.9.0) (4.1.1)\n",
            "Requirement already satisfied: pytz>=2017.3 in /usr/local/lib/python3.7/dist-packages (from pandas>=0.15.2->seaborn==0.9.0) (2022.1)\n",
            "Requirement already satisfied: six>=1.5 in /usr/local/lib/python3.7/dist-packages (from python-dateutil>=2.1->matplotlib>=1.4.3->seaborn==0.9.0) (1.15.0)\n",
            "Installing collected packages: seaborn\n",
            "  Attempting uninstall: seaborn\n",
            "    Found existing installation: seaborn 0.11.2\n",
            "    Uninstalling seaborn-0.11.2:\n",
            "      Successfully uninstalled seaborn-0.11.2\n",
            "Successfully installed seaborn-0.9.0\n"
          ]
        },
        {
          "output_type": "display_data",
          "data": {
            "application/vnd.colab-display-data+json": {
              "pip_warning": {
                "packages": [
                  "seaborn"
                ]
              }
            }
          },
          "metadata": {}
        }
      ]
    },
    {
      "cell_type": "code",
      "source": [
        "seed = 123\n",
        "np.random.seed(seed)\n",
        "torch.manual_seed(seed)\n",
        "\n",
        "parser = argparse.ArgumentParser()\n",
        "args = parser.parse_args(\"\")\n",
        "args.exp_name = \"exp2_lr_dropout\"\n",
        "\n",
        "args.n_layer =3\n",
        "args.in_dim = 3072\n",
        "args.out_dim = 10\n",
        "args.hid_dim = 300\n",
        "args.act = 'relu'\n",
        "\n",
        "#args.dropout = 0.2\n",
        "args.use_bn = True\n",
        "args.l2 = 0.00001\n",
        "args.use_xavier = True\n",
        "\n",
        "args.optim = 'RMSprop' \n",
        "#args.lr = 0.0015\n",
        "args.epoch = 10\n",
        "\n",
        "args.train_batch_size = 256\n",
        "args.test_batch_size = 1024\n",
        "\n",
        "name_var1 = 'lr'\n",
        "name_var2 = 'dropout'\n",
        "list_var1 = [0.0005, 0.001, 0.005]\n",
        "list_var2 = [0, 0.1,0.2,0.3]\n",
        "\n",
        "\n",
        "for var1 in list_var1:\n",
        "    for var2 in list_var2:\n",
        "        setattr(args, name_var1, var1)\n",
        "        setattr(args, name_var2, var2)\n",
        "        print(args)\n",
        "                \n",
        "        setting, result = experiment(partition, deepcopy(args))\n",
        "        save_exp_result(setting, result)"
      ],
      "metadata": {
        "colab": {
          "base_uri": "https://localhost:8080/"
        },
        "id": "rBMhP5pimkzl",
        "outputId": "1b12ae50-a8e1-4fa2-b75b-e4fcf0feabef"
      },
      "execution_count": 70,
      "outputs": [
        {
          "output_type": "stream",
          "name": "stdout",
          "text": [
            "Namespace(act='relu', dropout=0, epoch=10, exp_name='exp2_lr_dropout', hid_dim=300, in_dim=3072, l2=1e-05, lr=0.0005, n_layer=3, optim='RMSprop', out_dim=10, test_batch_size=1024, train_batch_size=256, use_bn=True, use_xavier=True)\n",
            "Epoch 0, Acc(train/val): 40.62/41.25, Loss(train/val) 1.66/1.65. Took 9.66 sec\n",
            "Epoch 1, Acc(train/val): 49.85/45.34, Loss(train/val) 1.41/1.55. Took 9.76 sec\n",
            "Epoch 2, Acc(train/val): 54.57/46.35, Loss(train/val) 1.28/1.52. Took 9.56 sec\n",
            "Epoch 3, Acc(train/val): 58.12/48.45, Loss(train/val) 1.18/1.47. Took 9.81 sec\n",
            "Epoch 4, Acc(train/val): 61.40/48.65, Loss(train/val) 1.09/1.48. Took 9.75 sec\n",
            "Epoch 5, Acc(train/val): 64.22/51.28, Loss(train/val) 1.01/1.41. Took 9.59 sec\n",
            "Epoch 6, Acc(train/val): 67.44/48.15, Loss(train/val) 0.93/1.56. Took 9.71 sec\n",
            "Epoch 7, Acc(train/val): 70.28/50.97, Loss(train/val) 0.84/1.52. Took 9.80 sec\n",
            "Epoch 8, Acc(train/val): 73.03/50.23, Loss(train/val) 0.77/1.59. Took 9.77 sec\n",
            "Epoch 9, Acc(train/val): 75.82/50.14, Loss(train/val) 0.69/1.62. Took 10.77 sec\n",
            "Namespace(act='relu', dropout=0.1, epoch=10, exp_name='exp2_lr_dropout', hid_dim=300, in_dim=3072, l2=1e-05, lr=0.0005, n_layer=3, optim='RMSprop', out_dim=10, test_batch_size=1024, train_batch_size=256, use_bn=True, use_xavier=True)\n",
            "Epoch 0, Acc(train/val): 39.88/43.16, Loss(train/val) 1.69/1.59. Took 9.72 sec\n",
            "Epoch 1, Acc(train/val): 48.34/47.11, Loss(train/val) 1.45/1.49. Took 9.57 sec\n",
            "Epoch 2, Acc(train/val): 52.54/48.70, Loss(train/val) 1.34/1.42. Took 9.52 sec\n",
            "Epoch 3, Acc(train/val): 55.48/47.52, Loss(train/val) 1.25/1.52. Took 9.56 sec\n",
            "Epoch 4, Acc(train/val): 58.18/48.30, Loss(train/val) 1.18/1.48. Took 10.28 sec\n",
            "Epoch 5, Acc(train/val): 60.76/50.72, Loss(train/val) 1.10/1.43. Took 9.40 sec\n",
            "Epoch 6, Acc(train/val): 63.02/47.69, Loss(train/val) 1.04/1.55. Took 9.38 sec\n",
            "Epoch 7, Acc(train/val): 65.18/50.47, Loss(train/val) 0.98/1.46. Took 9.25 sec\n",
            "Epoch 8, Acc(train/val): 67.33/50.95, Loss(train/val) 0.92/1.47. Took 9.49 sec\n",
            "Epoch 9, Acc(train/val): 69.28/48.95, Loss(train/val) 0.86/1.60. Took 9.55 sec\n",
            "Namespace(act='relu', dropout=0.2, epoch=10, exp_name='exp2_lr_dropout', hid_dim=300, in_dim=3072, l2=1e-05, lr=0.0005, n_layer=3, optim='RMSprop', out_dim=10, test_batch_size=1024, train_batch_size=256, use_bn=True, use_xavier=True)\n",
            "Epoch 0, Acc(train/val): 39.06/43.12, Loss(train/val) 1.71/1.60. Took 9.41 sec\n",
            "Epoch 1, Acc(train/val): 46.96/44.20, Loss(train/val) 1.49/1.56. Took 9.41 sec\n",
            "Epoch 2, Acc(train/val): 50.62/48.41, Loss(train/val) 1.39/1.44. Took 9.33 sec\n",
            "Epoch 3, Acc(train/val): 53.46/48.55, Loss(train/val) 1.30/1.46. Took 9.39 sec\n",
            "Epoch 4, Acc(train/val): 55.97/46.65, Loss(train/val) 1.24/1.51. Took 9.26 sec\n",
            "Epoch 5, Acc(train/val): 57.95/48.94, Loss(train/val) 1.18/1.47. Took 9.44 sec\n",
            "Epoch 6, Acc(train/val): 59.86/50.80, Loss(train/val) 1.12/1.43. Took 9.41 sec\n",
            "Epoch 7, Acc(train/val): 61.85/48.35, Loss(train/val) 1.07/1.53. Took 9.33 sec\n",
            "Epoch 8, Acc(train/val): 63.15/52.44, Loss(train/val) 1.03/1.40. Took 9.50 sec\n",
            "Epoch 9, Acc(train/val): 65.33/53.44, Loss(train/val) 0.97/1.38. Took 9.45 sec\n",
            "Namespace(act='relu', dropout=0.3, epoch=10, exp_name='exp2_lr_dropout', hid_dim=300, in_dim=3072, l2=1e-05, lr=0.0005, n_layer=3, optim='RMSprop', out_dim=10, test_batch_size=1024, train_batch_size=256, use_bn=True, use_xavier=True)\n",
            "Epoch 0, Acc(train/val): 37.05/43.12, Loss(train/val) 1.76/1.58. Took 9.25 sec\n",
            "Epoch 1, Acc(train/val): 45.15/46.95, Loss(train/val) 1.53/1.52. Took 10.22 sec\n",
            "Epoch 2, Acc(train/val): 48.57/47.56, Loss(train/val) 1.44/1.47. Took 9.53 sec\n",
            "Epoch 3, Acc(train/val): 51.53/48.72, Loss(train/val) 1.36/1.42. Took 9.31 sec\n",
            "Epoch 4, Acc(train/val): 53.78/48.55, Loss(train/val) 1.30/1.49. Took 9.24 sec\n",
            "Epoch 5, Acc(train/val): 55.66/51.29, Loss(train/val) 1.24/1.39. Took 9.31 sec\n",
            "Epoch 6, Acc(train/val): 57.08/51.08, Loss(train/val) 1.20/1.41. Took 9.39 sec\n",
            "Epoch 7, Acc(train/val): 59.14/50.05, Loss(train/val) 1.15/1.46. Took 9.38 sec\n",
            "Epoch 8, Acc(train/val): 60.89/52.57, Loss(train/val) 1.10/1.38. Took 9.41 sec\n",
            "Epoch 9, Acc(train/val): 62.13/49.56, Loss(train/val) 1.06/1.46. Took 9.58 sec\n",
            "Namespace(act='relu', dropout=0, epoch=10, exp_name='exp2_lr_dropout', hid_dim=300, in_dim=3072, l2=1e-05, lr=0.001, n_layer=3, optim='RMSprop', out_dim=10, test_batch_size=1024, train_batch_size=256, use_bn=True, use_xavier=True)\n",
            "Epoch 0, Acc(train/val): 39.57/41.88, Loss(train/val) 1.69/1.63. Took 9.35 sec\n",
            "Epoch 1, Acc(train/val): 48.92/40.97, Loss(train/val) 1.43/1.63. Took 9.26 sec\n",
            "Epoch 2, Acc(train/val): 53.47/44.50, Loss(train/val) 1.31/1.59. Took 9.36 sec\n",
            "Epoch 3, Acc(train/val): 56.71/45.04, Loss(train/val) 1.21/1.65. Took 9.24 sec\n",
            "Epoch 4, Acc(train/val): 60.10/48.74, Loss(train/val) 1.12/1.52. Took 9.35 sec\n",
            "Epoch 5, Acc(train/val): 63.28/46.17, Loss(train/val) 1.03/1.58. Took 9.38 sec\n",
            "Epoch 6, Acc(train/val): 66.32/46.59, Loss(train/val) 0.95/1.59. Took 9.27 sec\n",
            "Epoch 7, Acc(train/val): 69.00/49.26, Loss(train/val) 0.87/1.58. Took 9.42 sec\n",
            "Epoch 8, Acc(train/val): 72.25/43.28, Loss(train/val) 0.79/2.09. Took 10.08 sec\n",
            "Epoch 9, Acc(train/val): 74.52/49.98, Loss(train/val) 0.72/1.72. Took 9.35 sec\n",
            "Namespace(act='relu', dropout=0.1, epoch=10, exp_name='exp2_lr_dropout', hid_dim=300, in_dim=3072, l2=1e-05, lr=0.001, n_layer=3, optim='RMSprop', out_dim=10, test_batch_size=1024, train_batch_size=256, use_bn=True, use_xavier=True)\n",
            "Epoch 0, Acc(train/val): 38.72/41.24, Loss(train/val) 1.71/1.62. Took 9.35 sec\n",
            "Epoch 1, Acc(train/val): 47.65/41.59, Loss(train/val) 1.46/1.75. Took 9.31 sec\n",
            "Epoch 2, Acc(train/val): 51.76/45.29, Loss(train/val) 1.35/1.56. Took 9.39 sec\n",
            "Epoch 3, Acc(train/val): 54.47/44.84, Loss(train/val) 1.27/1.63. Took 9.48 sec\n",
            "Epoch 4, Acc(train/val): 57.48/49.97, Loss(train/val) 1.19/1.42. Took 9.44 sec\n",
            "Epoch 5, Acc(train/val): 60.33/51.77, Loss(train/val) 1.12/1.38. Took 9.48 sec\n",
            "Epoch 6, Acc(train/val): 62.66/50.56, Loss(train/val) 1.06/1.44. Took 9.24 sec\n",
            "Epoch 7, Acc(train/val): 64.61/49.41, Loss(train/val) 0.99/1.52. Took 9.36 sec\n",
            "Epoch 8, Acc(train/val): 66.63/48.87, Loss(train/val) 0.93/1.58. Took 9.37 sec\n",
            "Epoch 9, Acc(train/val): 68.85/46.71, Loss(train/val) 0.87/1.70. Took 9.30 sec\n",
            "Namespace(act='relu', dropout=0.2, epoch=10, exp_name='exp2_lr_dropout', hid_dim=300, in_dim=3072, l2=1e-05, lr=0.001, n_layer=3, optim='RMSprop', out_dim=10, test_batch_size=1024, train_batch_size=256, use_bn=True, use_xavier=True)\n",
            "Epoch 0, Acc(train/val): 38.14/39.50, Loss(train/val) 1.73/1.70. Took 9.30 sec\n",
            "Epoch 1, Acc(train/val): 46.71/40.58, Loss(train/val) 1.49/1.73. Took 9.45 sec\n",
            "Epoch 2, Acc(train/val): 50.58/47.88, Loss(train/val) 1.38/1.48. Took 9.24 sec\n",
            "Epoch 3, Acc(train/val): 53.18/49.12, Loss(train/val) 1.31/1.44. Took 9.29 sec\n",
            "Epoch 4, Acc(train/val): 55.59/44.13, Loss(train/val) 1.24/1.67. Took 9.31 sec\n",
            "Epoch 5, Acc(train/val): 57.88/43.71, Loss(train/val) 1.18/1.63. Took 10.18 sec\n",
            "Epoch 6, Acc(train/val): 59.76/50.75, Loss(train/val) 1.13/1.39. Took 9.30 sec\n",
            "Epoch 7, Acc(train/val): 61.89/49.58, Loss(train/val) 1.07/1.45. Took 9.31 sec\n",
            "Epoch 8, Acc(train/val): 63.60/48.48, Loss(train/val) 1.02/1.59. Took 9.34 sec\n",
            "Epoch 9, Acc(train/val): 65.30/49.57, Loss(train/val) 0.97/1.46. Took 9.37 sec\n",
            "Namespace(act='relu', dropout=0.3, epoch=10, exp_name='exp2_lr_dropout', hid_dim=300, in_dim=3072, l2=1e-05, lr=0.001, n_layer=3, optim='RMSprop', out_dim=10, test_batch_size=1024, train_batch_size=256, use_bn=True, use_xavier=True)\n",
            "Epoch 0, Acc(train/val): 36.67/41.74, Loss(train/val) 1.76/1.64. Took 9.64 sec\n",
            "Epoch 1, Acc(train/val): 45.33/42.64, Loss(train/val) 1.53/1.56. Took 9.39 sec\n",
            "Epoch 2, Acc(train/val): 48.52/47.13, Loss(train/val) 1.43/1.50. Took 9.37 sec\n",
            "Epoch 3, Acc(train/val): 51.72/48.25, Loss(train/val) 1.36/1.47. Took 9.40 sec\n",
            "Epoch 4, Acc(train/val): 54.10/46.78, Loss(train/val) 1.29/1.52. Took 9.42 sec\n",
            "Epoch 5, Acc(train/val): 55.64/48.45, Loss(train/val) 1.24/1.48. Took 9.32 sec\n",
            "Epoch 6, Acc(train/val): 57.89/49.20, Loss(train/val) 1.18/1.50. Took 9.42 sec\n",
            "Epoch 7, Acc(train/val): 59.39/49.46, Loss(train/val) 1.14/1.47. Took 9.46 sec\n",
            "Epoch 8, Acc(train/val): 61.09/51.87, Loss(train/val) 1.09/1.40. Took 9.67 sec\n",
            "Epoch 9, Acc(train/val): 62.70/51.85, Loss(train/val) 1.04/1.41. Took 9.57 sec\n",
            "Namespace(act='relu', dropout=0, epoch=10, exp_name='exp2_lr_dropout', hid_dim=300, in_dim=3072, l2=1e-05, lr=0.005, n_layer=3, optim='RMSprop', out_dim=10, test_batch_size=1024, train_batch_size=256, use_bn=True, use_xavier=True)\n",
            "Epoch 0, Acc(train/val): 31.96/28.53, Loss(train/val) 2.01/3.00. Took 9.36 sec\n",
            "Epoch 1, Acc(train/val): 42.50/39.98, Loss(train/val) 1.60/1.74. Took 9.45 sec\n",
            "Epoch 2, Acc(train/val): 47.27/41.46, Loss(train/val) 1.47/1.73. Took 10.25 sec\n",
            "Epoch 3, Acc(train/val): 50.68/42.15, Loss(train/val) 1.38/1.69. Took 9.34 sec\n",
            "Epoch 4, Acc(train/val): 53.27/47.10, Loss(train/val) 1.30/1.51. Took 9.43 sec\n",
            "Epoch 5, Acc(train/val): 56.13/41.65, Loss(train/val) 1.23/2.11. Took 9.40 sec\n",
            "Epoch 6, Acc(train/val): 58.47/42.08, Loss(train/val) 1.17/1.85. Took 9.35 sec\n",
            "Epoch 7, Acc(train/val): 60.00/45.19, Loss(train/val) 1.12/1.60. Took 9.58 sec\n",
            "Epoch 8, Acc(train/val): 61.76/46.10, Loss(train/val) 1.06/1.66. Took 9.36 sec\n",
            "Epoch 9, Acc(train/val): 64.24/44.69, Loss(train/val) 1.00/1.81. Took 9.33 sec\n",
            "Namespace(act='relu', dropout=0.1, epoch=10, exp_name='exp2_lr_dropout', hid_dim=300, in_dim=3072, l2=1e-05, lr=0.005, n_layer=3, optim='RMSprop', out_dim=10, test_batch_size=1024, train_batch_size=256, use_bn=True, use_xavier=True)\n",
            "Epoch 0, Acc(train/val): 32.80/35.52, Loss(train/val) 1.98/1.84. Took 9.46 sec\n",
            "Epoch 1, Acc(train/val): 42.52/38.08, Loss(train/val) 1.59/1.83. Took 9.39 sec\n",
            "Epoch 2, Acc(train/val): 47.11/40.50, Loss(train/val) 1.47/1.81. Took 9.31 sec\n",
            "Epoch 3, Acc(train/val): 50.18/40.60, Loss(train/val) 1.39/1.80. Took 9.28 sec\n",
            "Epoch 4, Acc(train/val): 52.64/47.24, Loss(train/val) 1.32/1.53. Took 9.46 sec\n",
            "Epoch 5, Acc(train/val): 54.86/42.00, Loss(train/val) 1.26/1.85. Took 9.29 sec\n",
            "Epoch 6, Acc(train/val): 56.58/49.00, Loss(train/val) 1.20/1.48. Took 9.42 sec\n",
            "Epoch 7, Acc(train/val): 58.67/46.00, Loss(train/val) 1.15/1.57. Took 9.65 sec\n",
            "Epoch 8, Acc(train/val): 59.85/49.05, Loss(train/val) 1.12/1.51. Took 9.49 sec\n",
            "Epoch 9, Acc(train/val): 61.58/45.98, Loss(train/val) 1.07/1.82. Took 9.27 sec\n",
            "Namespace(act='relu', dropout=0.2, epoch=10, exp_name='exp2_lr_dropout', hid_dim=300, in_dim=3072, l2=1e-05, lr=0.005, n_layer=3, optim='RMSprop', out_dim=10, test_batch_size=1024, train_batch_size=256, use_bn=True, use_xavier=True)\n",
            "Epoch 0, Acc(train/val): 31.10/33.94, Loss(train/val) 2.04/1.85. Took 10.21 sec\n",
            "Epoch 1, Acc(train/val): 41.07/39.22, Loss(train/val) 1.63/1.74. Took 9.47 sec\n",
            "Epoch 2, Acc(train/val): 45.61/38.81, Loss(train/val) 1.51/1.75. Took 9.37 sec\n",
            "Epoch 3, Acc(train/val): 48.07/43.15, Loss(train/val) 1.44/1.60. Took 9.34 sec\n",
            "Epoch 4, Acc(train/val): 51.13/45.47, Loss(train/val) 1.36/1.55. Took 9.38 sec\n",
            "Epoch 5, Acc(train/val): 53.43/42.57, Loss(train/val) 1.30/1.70. Took 9.40 sec\n",
            "Epoch 6, Acc(train/val): 54.27/46.51, Loss(train/val) 1.27/1.57. Took 9.43 sec\n",
            "Epoch 7, Acc(train/val): 56.45/45.69, Loss(train/val) 1.21/1.58. Took 9.46 sec\n",
            "Epoch 8, Acc(train/val): 57.78/48.03, Loss(train/val) 1.18/1.57. Took 9.32 sec\n",
            "Epoch 9, Acc(train/val): 59.28/44.08, Loss(train/val) 1.13/1.79. Took 9.16 sec\n",
            "Namespace(act='relu', dropout=0.3, epoch=10, exp_name='exp2_lr_dropout', hid_dim=300, in_dim=3072, l2=1e-05, lr=0.005, n_layer=3, optim='RMSprop', out_dim=10, test_batch_size=1024, train_batch_size=256, use_bn=True, use_xavier=True)\n",
            "Epoch 0, Acc(train/val): 30.91/34.36, Loss(train/val) 2.03/1.87. Took 9.47 sec\n",
            "Epoch 1, Acc(train/val): 40.47/34.62, Loss(train/val) 1.65/1.93. Took 9.26 sec\n",
            "Epoch 2, Acc(train/val): 44.41/41.58, Loss(train/val) 1.55/1.65. Took 9.21 sec\n",
            "Epoch 3, Acc(train/val): 46.70/45.33, Loss(train/val) 1.49/1.52. Took 9.28 sec\n",
            "Epoch 4, Acc(train/val): 49.74/41.61, Loss(train/val) 1.40/1.72. Took 9.15 sec\n",
            "Epoch 5, Acc(train/val): 51.48/44.78, Loss(train/val) 1.35/1.62. Took 9.22 sec\n",
            "Epoch 6, Acc(train/val): 53.28/42.35, Loss(train/val) 1.31/1.66. Took 9.39 sec\n",
            "Epoch 7, Acc(train/val): 55.08/46.79, Loss(train/val) 1.25/1.55. Took 9.23 sec\n",
            "Epoch 8, Acc(train/val): 56.63/47.86, Loss(train/val) 1.21/1.47. Took 9.98 sec\n",
            "Epoch 9, Acc(train/val): 58.05/44.54, Loss(train/val) 1.18/1.63. Took 9.11 sec\n"
          ]
        }
      ]
    }
  ]
}